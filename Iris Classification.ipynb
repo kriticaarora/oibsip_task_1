{
 "cells": [
  {
   "cell_type": "markdown",
   "id": "3ece9690",
   "metadata": {},
   "source": [
    "# Task 1: Iris Classification \n",
    "\n",
    "## Problem: \n",
    "Iris flower has three species; setosa, versicolor, and virginica, which differs according to their measurements. Now assume that you have the measurements of the iris flowers according to their species, and here your task is to train a machine learning model that can learn from the measurements of the iris species and classify them."
   ]
  },
  {
   "cell_type": "code",
   "execution_count": null,
   "id": "73a20ef0",
   "metadata": {},
   "outputs": [],
   "source": [
    "# import tensorflow as tf\n",
    "import pandas as pd\n",
    "from sklearn.model_selection import train_test_split\n",
    "from sklearn.preprocessing import StandardScaler\n",
    "from sklearn import datasets\n",
    "\n",
    "# Loading the Iris dataset\n",
    "iris = datasets.load_iris()\n",
    "dataset=pd.DataFrame(iris.data)\n",
    "X = dataset\n",
    "Y = iris.target\n",
    "print(\"Data: \",X)\n",
    "print(\"Target: \",Y)"
   ]
  },
  {
   "cell_type": "code",
   "execution_count": 14,
   "id": "dfa1062b",
   "metadata": {},
   "outputs": [
    {
     "name": "stdout",
     "output_type": "stream",
     "text": [
      "Done Splitting\n"
     ]
    }
   ],
   "source": [
    "# Standardize the feature values\n",
    "scaler = StandardScaler()\n",
    "X = scaler.fit_transform(X)\n",
    "\n",
    "# Splitting the dataset \n",
    "X_train, X_test, y_train, y_test = train_test_split(X, Y, test_size=0.2, random_state=42)\n",
    "print(\"Done Splitting\")"
   ]
  },
  {
   "cell_type": "code",
   "execution_count": 15,
   "id": "4379ad62",
   "metadata": {},
   "outputs": [
    {
     "name": "stdout",
     "output_type": "stream",
     "text": [
      "Epoch 1/50\n",
      "8/8 [==============================] - 1s 38ms/step - loss: 0.9742 - accuracy: 0.5000 - val_loss: 0.9058 - val_accuracy: 0.5333\n",
      "Epoch 2/50\n",
      "8/8 [==============================] - 0s 11ms/step - loss: 0.9409 - accuracy: 0.5917 - val_loss: 0.8711 - val_accuracy: 0.6333\n",
      "Epoch 3/50\n",
      "8/8 [==============================] - 0s 10ms/step - loss: 0.9056 - accuracy: 0.6417 - val_loss: 0.8397 - val_accuracy: 0.6333\n",
      "Epoch 4/50\n",
      "8/8 [==============================] - 0s 10ms/step - loss: 0.8758 - accuracy: 0.6833 - val_loss: 0.8099 - val_accuracy: 0.6333\n",
      "Epoch 5/50\n",
      "8/8 [==============================] - 0s 9ms/step - loss: 0.8464 - accuracy: 0.7083 - val_loss: 0.7813 - val_accuracy: 0.6667\n",
      "Epoch 6/50\n",
      "8/8 [==============================] - 0s 9ms/step - loss: 0.8176 - accuracy: 0.7250 - val_loss: 0.7550 - val_accuracy: 0.7333\n",
      "Epoch 7/50\n",
      "8/8 [==============================] - 0s 8ms/step - loss: 0.7909 - accuracy: 0.7417 - val_loss: 0.7295 - val_accuracy: 0.7667\n",
      "Epoch 8/50\n",
      "8/8 [==============================] - 0s 10ms/step - loss: 0.7654 - accuracy: 0.7583 - val_loss: 0.7049 - val_accuracy: 0.8000\n",
      "Epoch 9/50\n",
      "8/8 [==============================] - 0s 9ms/step - loss: 0.7404 - accuracy: 0.7667 - val_loss: 0.6805 - val_accuracy: 0.8000\n",
      "Epoch 10/50\n",
      "8/8 [==============================] - 0s 9ms/step - loss: 0.7166 - accuracy: 0.7750 - val_loss: 0.6577 - val_accuracy: 0.8000\n",
      "Epoch 11/50\n",
      "8/8 [==============================] - 0s 12ms/step - loss: 0.6932 - accuracy: 0.7750 - val_loss: 0.6363 - val_accuracy: 0.8000\n",
      "Epoch 12/50\n",
      "8/8 [==============================] - 0s 9ms/step - loss: 0.6716 - accuracy: 0.7833 - val_loss: 0.6150 - val_accuracy: 0.8000\n",
      "Epoch 13/50\n",
      "8/8 [==============================] - 0s 9ms/step - loss: 0.6505 - accuracy: 0.7917 - val_loss: 0.5950 - val_accuracy: 0.8000\n",
      "Epoch 14/50\n",
      "8/8 [==============================] - 0s 11ms/step - loss: 0.6311 - accuracy: 0.7917 - val_loss: 0.5756 - val_accuracy: 0.8333\n",
      "Epoch 15/50\n",
      "8/8 [==============================] - 0s 11ms/step - loss: 0.6116 - accuracy: 0.8000 - val_loss: 0.5575 - val_accuracy: 0.8333\n",
      "Epoch 16/50\n",
      "8/8 [==============================] - 0s 10ms/step - loss: 0.5942 - accuracy: 0.8083 - val_loss: 0.5407 - val_accuracy: 0.8333\n",
      "Epoch 17/50\n",
      "8/8 [==============================] - 0s 11ms/step - loss: 0.5778 - accuracy: 0.8083 - val_loss: 0.5250 - val_accuracy: 0.8333\n",
      "Epoch 18/50\n",
      "8/8 [==============================] - 0s 11ms/step - loss: 0.5617 - accuracy: 0.8167 - val_loss: 0.5101 - val_accuracy: 0.8333\n",
      "Epoch 19/50\n",
      "8/8 [==============================] - 0s 12ms/step - loss: 0.5472 - accuracy: 0.8167 - val_loss: 0.4963 - val_accuracy: 0.8333\n",
      "Epoch 20/50\n",
      "8/8 [==============================] - 0s 13ms/step - loss: 0.5334 - accuracy: 0.8250 - val_loss: 0.4827 - val_accuracy: 0.8333\n",
      "Epoch 21/50\n",
      "8/8 [==============================] - 0s 11ms/step - loss: 0.5201 - accuracy: 0.8250 - val_loss: 0.4700 - val_accuracy: 0.8333\n",
      "Epoch 22/50\n",
      "8/8 [==============================] - 0s 12ms/step - loss: 0.5076 - accuracy: 0.8250 - val_loss: 0.4578 - val_accuracy: 0.8333\n",
      "Epoch 23/50\n",
      "8/8 [==============================] - 0s 10ms/step - loss: 0.4960 - accuracy: 0.8250 - val_loss: 0.4464 - val_accuracy: 0.8333\n",
      "Epoch 24/50\n",
      "8/8 [==============================] - 0s 9ms/step - loss: 0.4851 - accuracy: 0.8333 - val_loss: 0.4352 - val_accuracy: 0.8333\n",
      "Epoch 25/50\n",
      "8/8 [==============================] - 0s 9ms/step - loss: 0.4741 - accuracy: 0.8333 - val_loss: 0.4250 - val_accuracy: 0.8333\n",
      "Epoch 26/50\n",
      "8/8 [==============================] - 0s 10ms/step - loss: 0.4646 - accuracy: 0.8333 - val_loss: 0.4151 - val_accuracy: 0.8667\n",
      "Epoch 27/50\n",
      "8/8 [==============================] - 0s 9ms/step - loss: 0.4547 - accuracy: 0.8333 - val_loss: 0.4058 - val_accuracy: 0.8667\n",
      "Epoch 28/50\n",
      "8/8 [==============================] - 0s 8ms/step - loss: 0.4459 - accuracy: 0.8333 - val_loss: 0.3970 - val_accuracy: 0.8667\n",
      "Epoch 29/50\n",
      "8/8 [==============================] - 0s 11ms/step - loss: 0.4372 - accuracy: 0.8500 - val_loss: 0.3885 - val_accuracy: 0.8667\n",
      "Epoch 30/50\n",
      "8/8 [==============================] - 0s 9ms/step - loss: 0.4294 - accuracy: 0.8500 - val_loss: 0.3806 - val_accuracy: 0.8667\n",
      "Epoch 31/50\n",
      "8/8 [==============================] - 0s 10ms/step - loss: 0.4217 - accuracy: 0.8500 - val_loss: 0.3731 - val_accuracy: 0.8667\n",
      "Epoch 32/50\n",
      "8/8 [==============================] - 0s 10ms/step - loss: 0.4149 - accuracy: 0.8583 - val_loss: 0.3659 - val_accuracy: 0.8667\n",
      "Epoch 33/50\n",
      "8/8 [==============================] - 0s 10ms/step - loss: 0.4081 - accuracy: 0.8500 - val_loss: 0.3591 - val_accuracy: 0.9000\n",
      "Epoch 34/50\n",
      "8/8 [==============================] - 0s 8ms/step - loss: 0.4015 - accuracy: 0.8500 - val_loss: 0.3528 - val_accuracy: 0.9000\n",
      "Epoch 35/50\n",
      "8/8 [==============================] - 0s 8ms/step - loss: 0.3957 - accuracy: 0.8500 - val_loss: 0.3468 - val_accuracy: 0.9000\n",
      "Epoch 36/50\n",
      "8/8 [==============================] - 0s 11ms/step - loss: 0.3898 - accuracy: 0.8500 - val_loss: 0.3408 - val_accuracy: 0.9000\n",
      "Epoch 37/50\n",
      "8/8 [==============================] - 0s 11ms/step - loss: 0.3843 - accuracy: 0.8500 - val_loss: 0.3352 - val_accuracy: 0.9000\n",
      "Epoch 38/50\n",
      "8/8 [==============================] - 0s 11ms/step - loss: 0.3789 - accuracy: 0.8500 - val_loss: 0.3299 - val_accuracy: 0.9000\n",
      "Epoch 39/50\n",
      "8/8 [==============================] - 0s 11ms/step - loss: 0.3740 - accuracy: 0.8667 - val_loss: 0.3245 - val_accuracy: 0.9000\n",
      "Epoch 40/50\n",
      "8/8 [==============================] - 0s 9ms/step - loss: 0.3690 - accuracy: 0.8750 - val_loss: 0.3200 - val_accuracy: 0.9333\n",
      "Epoch 41/50\n",
      "8/8 [==============================] - 0s 9ms/step - loss: 0.3642 - accuracy: 0.8750 - val_loss: 0.3156 - val_accuracy: 0.9000\n",
      "Epoch 42/50\n",
      "8/8 [==============================] - 0s 10ms/step - loss: 0.3602 - accuracy: 0.8750 - val_loss: 0.3110 - val_accuracy: 0.9333\n",
      "Epoch 43/50\n",
      "8/8 [==============================] - 0s 9ms/step - loss: 0.3553 - accuracy: 0.8750 - val_loss: 0.3067 - val_accuracy: 0.9333\n",
      "Epoch 44/50\n",
      "8/8 [==============================] - 0s 9ms/step - loss: 0.3511 - accuracy: 0.8750 - val_loss: 0.3023 - val_accuracy: 0.9333\n",
      "Epoch 45/50\n",
      "8/8 [==============================] - 0s 8ms/step - loss: 0.3471 - accuracy: 0.8750 - val_loss: 0.2982 - val_accuracy: 0.9333\n",
      "Epoch 46/50\n",
      "8/8 [==============================] - 0s 8ms/step - loss: 0.3429 - accuracy: 0.8833 - val_loss: 0.2941 - val_accuracy: 0.9333\n",
      "Epoch 47/50\n",
      "8/8 [==============================] - 0s 9ms/step - loss: 0.3391 - accuracy: 0.8833 - val_loss: 0.2901 - val_accuracy: 0.9333\n",
      "Epoch 48/50\n",
      "8/8 [==============================] - 0s 10ms/step - loss: 0.3354 - accuracy: 0.8750 - val_loss: 0.2864 - val_accuracy: 0.9333\n",
      "Epoch 49/50\n",
      "8/8 [==============================] - 0s 12ms/step - loss: 0.3319 - accuracy: 0.8750 - val_loss: 0.2826 - val_accuracy: 0.9333\n",
      "Epoch 50/50\n",
      "8/8 [==============================] - 0s 9ms/step - loss: 0.3282 - accuracy: 0.8750 - val_loss: 0.2792 - val_accuracy: 0.9333\n"
     ]
    },
    {
     "data": {
      "text/plain": [
       "<keras.src.callbacks.History at 0x27766facf10>"
      ]
     },
     "execution_count": 15,
     "metadata": {},
     "output_type": "execute_result"
    }
   ],
   "source": [
    "# Creating a simple neural network with Keras\n",
    "model = tf.keras.Sequential([tf.keras.layers.Dense(10, activation='relu', input_shape=(4,)),\n",
    "    tf.keras.layers.Dense(3, activation='softmax')\n",
    "])\n",
    "\n",
    "# Compiling the model\n",
    "model.compile(optimizer='adam', loss='sparse_categorical_crossentropy', metrics=['accuracy'])\n",
    "\n",
    "# Training the model\n",
    "model.fit(X_train, y_train, epochs=50, batch_size=16, validation_data=(X_test, y_test))"
   ]
  },
  {
   "cell_type": "code",
   "execution_count": 16,
   "id": "90cc1236",
   "metadata": {},
   "outputs": [
    {
     "name": "stdout",
     "output_type": "stream",
     "text": [
      "1/1 [==============================] - 0s 35ms/step - loss: 0.2792 - accuracy: 0.9333\n",
      "Test Accuracy: 0.9333333373069763\n"
     ]
    }
   ],
   "source": [
    "# Evaluating the model on the test set\n",
    "test_loss, test_accuracy = model.evaluate(X_test, y_test)\n",
    "print(f\"Test Accuracy: {test_accuracy}\")"
   ]
  }
 ],
 "metadata": {
  "kernelspec": {
   "display_name": "Python 3 (ipykernel)",
   "language": "python",
   "name": "python3"
  },
  "language_info": {
   "codemirror_mode": {
    "name": "ipython",
    "version": 3
   },
   "file_extension": ".py",
   "mimetype": "text/x-python",
   "name": "python",
   "nbconvert_exporter": "python",
   "pygments_lexer": "ipython3",
   "version": "3.11.5"
  }
 },
 "nbformat": 4,
 "nbformat_minor": 5
}
